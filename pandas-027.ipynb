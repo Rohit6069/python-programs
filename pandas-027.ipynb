{
 "cells": [
  {
   "cell_type": "code",
   "execution_count": 2,
   "id": "7e899e72",
   "metadata": {},
   "outputs": [
    {
     "name": "stdout",
     "output_type": "stream",
     "text": [
      "  cars  speed\n",
      "0   h2    200\n",
      "1   h1    260\n",
      "2   h3    290\n",
      "3   ev    330\n"
     ]
    }
   ],
   "source": [
    "import pandas as pd\n",
    "data={\n",
    "    \"cars\":[\"h2\",\"h1\",\"h3\",\"ev\"],\n",
    "    \"speed\":[200,260,290,330]\n",
    "}\n",
    "df=pd.DataFrame(data)\n",
    "print(df)"
   ]
  },
  {
   "cell_type": "code",
   "execution_count": 2,
   "id": "46ea8757",
   "metadata": {},
   "outputs": [
    {
     "name": "stdout",
     "output_type": "stream",
     "text": [
      "  fruits  rating\n",
      "0  apple       5\n",
      "1  mango       2\n",
      "2  guava       4\n"
     ]
    }
   ],
   "source": [
    "import pandas as pd\n",
    "data={\n",
    "    \"fruits\":[\"apple\",\"mango\",\"guava\"],\n",
    "    \"rating\":[5,2,4]\n",
    "}\n",
    "df=pd.DataFrame(data)\n",
    "print(df)\n"
   ]
  },
  {
   "cell_type": "code",
   "execution_count": 3,
   "id": "d44a44fe",
   "metadata": {},
   "outputs": [
    {
     "name": "stdout",
     "output_type": "stream",
     "text": [
      "  student names gender\n",
      "0            jk   male\n",
      "1            rp   male\n",
      "2            tr   male\n"
     ]
    }
   ],
   "source": [
    "import pandas as pk\n",
    "data={\n",
    "    \"student names\":[\"jk\",\"rp\",\"tr\"],\n",
    "    \"gender\":[\"male\",\"male\",\"male\"]\n",
    "}\n",
    "ko=pk.DataFrame(data)\n",
    "print(ko)"
   ]
  },
  {
   "cell_type": "code",
   "execution_count": 17,
   "id": "8466d751",
   "metadata": {},
   "outputs": [
    {
     "name": "stdout",
     "output_type": "stream",
     "text": [
      "0    {'day1': 4, 'day2': 3, 'day3': 0}\n",
      "dtype: object\n"
     ]
    }
   ],
   "source": [
    "import pandas as pd\n",
    "\n",
    "cars = {\"day1\": 4, \"day2\": 3, \"day3\": 0},\n",
    "\n",
    "ok = pd.Series(cars)\n",
    "print(ok)\n",
    "    \n",
    "    \n"
   ]
  },
  {
   "cell_type": "code",
   "execution_count": 15,
   "id": "c253356c",
   "metadata": {},
   "outputs": [
    {
     "name": "stdout",
     "output_type": "stream",
     "text": [
      "day1    4.5\n",
      "day2    3.5\n",
      "day3    9.8\n",
      "dtype: float64\n"
     ]
    }
   ],
   "source": [
    "import pandas as pd\n",
    "\n",
    "cars = {\"day1\": 4.5, \"day2\": 3.5, \"day3\": 9.8}\n",
    "\n",
    "ok = pd.Series(cars)\n",
    "print(ok)"
   ]
  },
  {
   "cell_type": "code",
   "execution_count": 14,
   "id": "93d80ac3",
   "metadata": {},
   "outputs": [
    {
     "name": "stdout",
     "output_type": "stream",
     "text": [
      "0    8\n",
      "1    9\n",
      "2    6\n",
      "3    0\n",
      "dtype: int64\n"
     ]
    }
   ],
   "source": [
    "import pandas as pd\n",
    "\n",
    "cars = [8,9,6,0]\n",
    "\n",
    "ok = pd.Series(cars)\n",
    "print(ok)"
   ]
  },
  {
   "cell_type": "code",
   "execution_count": null,
   "id": "98398086",
   "metadata": {},
   "outputs": [],
   "source": []
  }
 ],
 "metadata": {
  "kernelspec": {
   "display_name": "Python 3 (ipykernel)",
   "language": "python",
   "name": "python3"
  },
  "language_info": {
   "codemirror_mode": {
    "name": "ipython",
    "version": 3
   },
   "file_extension": ".py",
   "mimetype": "text/x-python",
   "name": "python",
   "nbconvert_exporter": "python",
   "pygments_lexer": "ipython3",
   "version": "3.9.7"
  }
 },
 "nbformat": 4,
 "nbformat_minor": 5
}
